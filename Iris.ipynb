{
 "cells": [
  {
   "cell_type": "code",
   "execution_count": 7,
   "id": "d2d942c2",
   "metadata": {},
   "outputs": [],
   "source": [
    "import numpy as np\n",
    "import pandas as pd\n"
   ]
  },
  {
   "cell_type": "code",
   "execution_count": 8,
   "id": "c80068fe",
   "metadata": {},
   "outputs": [
    {
     "data": {
      "text/plain": [
       "array(['Iris-setosa', 'Iris-setosa', 'Iris-setosa', 'Iris-setosa',\n",
       "       'Iris-setosa', 'Iris-setosa', 'Iris-setosa', 'Iris-setosa',\n",
       "       'Iris-setosa', 'Iris-setosa', 'Iris-setosa', 'Iris-setosa',\n",
       "       'Iris-setosa', 'Iris-setosa', 'Iris-setosa', 'Iris-setosa',\n",
       "       'Iris-setosa', 'Iris-setosa', 'Iris-setosa', 'Iris-setosa',\n",
       "       'Iris-setosa', 'Iris-setosa', 'Iris-setosa', 'Iris-setosa',\n",
       "       'Iris-setosa', 'Iris-setosa', 'Iris-setosa', 'Iris-setosa',\n",
       "       'Iris-setosa', 'Iris-setosa', 'Iris-setosa', 'Iris-setosa',\n",
       "       'Iris-setosa', 'Iris-setosa', 'Iris-setosa', 'Iris-setosa',\n",
       "       'Iris-setosa', 'Iris-setosa', 'Iris-setosa', 'Iris-setosa',\n",
       "       'Iris-setosa', 'Iris-setosa', 'Iris-setosa', 'Iris-setosa',\n",
       "       'Iris-setosa', 'Iris-setosa', 'Iris-setosa', 'Iris-setosa',\n",
       "       'Iris-setosa', 'Iris-setosa', 'Iris-versicolor', 'Iris-versicolor',\n",
       "       'Iris-versicolor', 'Iris-versicolor', 'Iris-versicolor',\n",
       "       'Iris-versicolor', 'Iris-versicolor', 'Iris-versicolor',\n",
       "       'Iris-versicolor', 'Iris-versicolor', 'Iris-versicolor',\n",
       "       'Iris-versicolor', 'Iris-versicolor', 'Iris-versicolor',\n",
       "       'Iris-versicolor', 'Iris-versicolor', 'Iris-versicolor',\n",
       "       'Iris-versicolor', 'Iris-versicolor', 'Iris-versicolor',\n",
       "       'Iris-versicolor', 'Iris-versicolor', 'Iris-versicolor',\n",
       "       'Iris-versicolor', 'Iris-versicolor', 'Iris-versicolor',\n",
       "       'Iris-versicolor', 'Iris-versicolor', 'Iris-versicolor',\n",
       "       'Iris-versicolor', 'Iris-versicolor', 'Iris-versicolor',\n",
       "       'Iris-versicolor', 'Iris-versicolor', 'Iris-versicolor',\n",
       "       'Iris-versicolor', 'Iris-versicolor', 'Iris-versicolor',\n",
       "       'Iris-versicolor', 'Iris-versicolor', 'Iris-versicolor',\n",
       "       'Iris-versicolor', 'Iris-versicolor', 'Iris-versicolor',\n",
       "       'Iris-versicolor', 'Iris-versicolor', 'Iris-versicolor',\n",
       "       'Iris-versicolor', 'Iris-versicolor', 'Iris-versicolor',\n",
       "       'Iris-virginica', 'Iris-virginica', 'Iris-virginica',\n",
       "       'Iris-virginica', 'Iris-virginica', 'Iris-virginica',\n",
       "       'Iris-virginica', 'Iris-virginica', 'Iris-virginica',\n",
       "       'Iris-virginica', 'Iris-virginica', 'Iris-virginica',\n",
       "       'Iris-virginica', 'Iris-virginica', 'Iris-virginica',\n",
       "       'Iris-virginica', 'Iris-virginica', 'Iris-virginica',\n",
       "       'Iris-virginica', 'Iris-virginica', 'Iris-virginica',\n",
       "       'Iris-virginica', 'Iris-virginica', 'Iris-virginica',\n",
       "       'Iris-virginica', 'Iris-virginica', 'Iris-virginica',\n",
       "       'Iris-virginica', 'Iris-virginica', 'Iris-virginica',\n",
       "       'Iris-virginica', 'Iris-virginica', 'Iris-virginica',\n",
       "       'Iris-virginica', 'Iris-virginica', 'Iris-virginica',\n",
       "       'Iris-virginica', 'Iris-virginica', 'Iris-virginica',\n",
       "       'Iris-virginica', 'Iris-virginica', 'Iris-virginica',\n",
       "       'Iris-virginica', 'Iris-virginica', 'Iris-virginica',\n",
       "       'Iris-virginica', 'Iris-virginica', 'Iris-virginica',\n",
       "       'Iris-virginica', 'Iris-virginica'], dtype='<U15')"
      ]
     },
     "execution_count": 8,
     "metadata": {},
     "output_type": "execute_result"
    }
   ],
   "source": [
    "url = 'https://archive.ics.uci.edu/ml/machine-learning-databases/iris/iris.data'\n",
    "species = np.genfromtxt (url, delimiter=',', dtype='str', usecols=4)\n",
    "species\n"
   ]
  },
  {
   "cell_type": "code",
   "execution_count": 10,
   "id": "451b9a97",
   "metadata": {},
   "outputs": [],
   "source": [
    "uniqs = np.unique(species)\n",
    "uniqs\n",
    "species_cat = species"
   ]
  },
  {
   "cell_type": "code",
   "execution_count": 11,
   "id": "3dffb993",
   "metadata": {},
   "outputs": [
    {
     "data": {
      "text/plain": [
       "1"
      ]
     },
     "execution_count": 11,
     "metadata": {},
     "output_type": "execute_result"
    }
   ],
   "source": [
    "np.argwhere(uniqs == 'Iris-versicolor').tolist()[0][0]\n"
   ]
  },
  {
   "cell_type": "code",
   "execution_count": 12,
   "id": "b6850d02",
   "metadata": {},
   "outputs": [
    {
     "name": "stdout",
     "output_type": "stream",
     "text": [
      "[0, 0, 0, 0, 0, 0, 0, 0, 0, 0, 0, 0, 0, 0, 0, 0, 0, 0, 0, 0, 0, 0, 0, 0, 0, 0, 0, 0, 0, 0, 0, 0, 0, 0, 0, 0, 0, 0, 0, 0, 0, 0, 0, 0, 0, 0, 0, 0, 0, 0, 1, 1, 1, 1, 1, 1, 1, 1, 1, 1, 1, 1, 1, 1, 1, 1, 1, 1, 1, 1, 1, 1, 1, 1, 1, 1, 1, 1, 1, 1, 1, 1, 1, 1, 1, 1, 1, 1, 1, 1, 1, 1, 1, 1, 1, 1, 1, 1, 1, 1, 2, 2, 2, 2, 2, 2, 2, 2, 2, 2, 2, 2, 2, 2, 2, 2, 2, 2, 2, 2, 2, 2, 2, 2, 2, 2, 2, 2, 2, 2, 2, 2, 2, 2, 2, 2, 2, 2, 2, 2, 2, 2, 2, 2, 2, 2, 2, 2, 2, 2]\n"
     ]
    }
   ],
   "source": [
    "out = []\n",
    "for val in uniqs:\n",
    "    for s in species_cat [species_cat == val]:\n",
    "        group_id=np.argwhere(uniqs == s).tolist()[0][0]\n",
    "        out.append(group_id)\n",
    "print(out)"
   ]
  },
  {
   "cell_type": "code",
   "execution_count": 13,
   "id": "edafe68c",
   "metadata": {},
   "outputs": [
    {
     "data": {
      "text/plain": [
       "array([['5.1', '3.5', '1.4', '0.2', 'Iris-setosa'],\n",
       "       ['4.9', '3.0', '1.4', '0.2', 'Iris-setosa'],\n",
       "       ['4.7', '3.2', '1.3', '0.2', 'Iris-setosa'],\n",
       "       ['4.6', '3.1', '1.5', '0.2', 'Iris-setosa'],\n",
       "       ['5.0', '3.6', '1.4', '0.2', 'Iris-setosa'],\n",
       "       ['5.4', '3.9', '1.7', '0.4', 'Iris-setosa'],\n",
       "       ['4.6', '3.4', '1.4', '0.3', 'Iris-setosa'],\n",
       "       ['5.0', '3.4', '1.5', '0.2', 'Iris-setosa'],\n",
       "       ['4.4', '2.9', '1.4', '0.2', 'Iris-setosa'],\n",
       "       ['4.9', '3.1', '1.5', '0.1', 'Iris-setosa'],\n",
       "       ['5.4', '3.7', '1.5', '0.2', 'Iris-setosa'],\n",
       "       ['4.8', '3.4', '1.6', '0.2', 'Iris-setosa'],\n",
       "       ['4.8', '3.0', '1.4', '0.1', 'Iris-setosa'],\n",
       "       ['4.3', '3.0', '1.1', '0.1', 'Iris-setosa'],\n",
       "       ['5.8', '4.0', '1.2', '0.2', 'Iris-setosa'],\n",
       "       ['5.7', '4.4', '1.5', '0.4', 'Iris-setosa'],\n",
       "       ['5.4', '3.9', '1.3', '0.4', 'Iris-setosa'],\n",
       "       ['5.1', '3.5', '1.4', '0.3', 'Iris-setosa'],\n",
       "       ['5.7', '3.8', '1.7', '0.3', 'Iris-setosa'],\n",
       "       ['5.1', '3.8', '1.5', '0.3', 'Iris-setosa'],\n",
       "       ['5.4', '3.4', '1.7', '0.2', 'Iris-setosa'],\n",
       "       ['5.1', '3.7', '1.5', '0.4', 'Iris-setosa'],\n",
       "       ['4.6', '3.6', '1.0', '0.2', 'Iris-setosa'],\n",
       "       ['5.1', '3.3', '1.7', '0.5', 'Iris-setosa'],\n",
       "       ['4.8', '3.4', '1.9', '0.2', 'Iris-setosa'],\n",
       "       ['5.0', '3.0', '1.6', '0.2', 'Iris-setosa'],\n",
       "       ['5.0', '3.4', '1.6', '0.4', 'Iris-setosa'],\n",
       "       ['5.2', '3.5', '1.5', '0.2', 'Iris-setosa'],\n",
       "       ['5.2', '3.4', '1.4', '0.2', 'Iris-setosa'],\n",
       "       ['4.7', '3.2', '1.6', '0.2', 'Iris-setosa'],\n",
       "       ['4.8', '3.1', '1.6', '0.2', 'Iris-setosa'],\n",
       "       ['5.4', '3.4', '1.5', '0.4', 'Iris-setosa'],\n",
       "       ['5.2', '4.1', '1.5', '0.1', 'Iris-setosa'],\n",
       "       ['5.5', '4.2', '1.4', '0.2', 'Iris-setosa'],\n",
       "       ['4.9', '3.1', '1.5', '0.1', 'Iris-setosa'],\n",
       "       ['5.0', '3.2', '1.2', '0.2', 'Iris-setosa'],\n",
       "       ['5.5', '3.5', '1.3', '0.2', 'Iris-setosa'],\n",
       "       ['4.9', '3.1', '1.5', '0.1', 'Iris-setosa'],\n",
       "       ['4.4', '3.0', '1.3', '0.2', 'Iris-setosa'],\n",
       "       ['5.1', '3.4', '1.5', '0.2', 'Iris-setosa'],\n",
       "       ['5.0', '3.5', '1.3', '0.3', 'Iris-setosa'],\n",
       "       ['4.5', '2.3', '1.3', '0.3', 'Iris-setosa'],\n",
       "       ['4.4', '3.2', '1.3', '0.2', 'Iris-setosa'],\n",
       "       ['5.0', '3.5', '1.6', '0.6', 'Iris-setosa'],\n",
       "       ['5.1', '3.8', '1.9', '0.4', 'Iris-setosa'],\n",
       "       ['4.8', '3.0', '1.4', '0.3', 'Iris-setosa'],\n",
       "       ['5.1', '3.8', '1.6', '0.2', 'Iris-setosa'],\n",
       "       ['4.6', '3.2', '1.4', '0.2', 'Iris-setosa'],\n",
       "       ['5.3', '3.7', '1.5', '0.2', 'Iris-setosa'],\n",
       "       ['5.0', '3.3', '1.4', '0.2', 'Iris-setosa'],\n",
       "       ['7.0', '3.2', '4.7', '1.4', 'Iris-versicolor'],\n",
       "       ['6.4', '3.2', '4.5', '1.5', 'Iris-versicolor'],\n",
       "       ['6.9', '3.1', '4.9', '1.5', 'Iris-versicolor'],\n",
       "       ['5.5', '2.3', '4.0', '1.3', 'Iris-versicolor'],\n",
       "       ['6.5', '2.8', '4.6', '1.5', 'Iris-versicolor'],\n",
       "       ['5.7', '2.8', '4.5', '1.3', 'Iris-versicolor'],\n",
       "       ['6.3', '3.3', '4.7', '1.6', 'Iris-versicolor'],\n",
       "       ['4.9', '2.4', '3.3', '1.0', 'Iris-versicolor'],\n",
       "       ['6.6', '2.9', '4.6', '1.3', 'Iris-versicolor'],\n",
       "       ['5.2', '2.7', '3.9', '1.4', 'Iris-versicolor'],\n",
       "       ['5.0', '2.0', '3.5', '1.0', 'Iris-versicolor'],\n",
       "       ['5.9', '3.0', '4.2', '1.5', 'Iris-versicolor'],\n",
       "       ['6.0', '2.2', '4.0', '1.0', 'Iris-versicolor'],\n",
       "       ['6.1', '2.9', '4.7', '1.4', 'Iris-versicolor'],\n",
       "       ['5.6', '2.9', '3.6', '1.3', 'Iris-versicolor'],\n",
       "       ['6.7', '3.1', '4.4', '1.4', 'Iris-versicolor'],\n",
       "       ['5.6', '3.0', '4.5', '1.5', 'Iris-versicolor'],\n",
       "       ['5.8', '2.7', '4.1', '1.0', 'Iris-versicolor'],\n",
       "       ['6.2', '2.2', '4.5', '1.5', 'Iris-versicolor'],\n",
       "       ['5.6', '2.5', '3.9', '1.1', 'Iris-versicolor'],\n",
       "       ['5.9', '3.2', '4.8', '1.8', 'Iris-versicolor'],\n",
       "       ['6.1', '2.8', '4.0', '1.3', 'Iris-versicolor'],\n",
       "       ['6.3', '2.5', '4.9', '1.5', 'Iris-versicolor'],\n",
       "       ['6.1', '2.8', '4.7', '1.2', 'Iris-versicolor'],\n",
       "       ['6.4', '2.9', '4.3', '1.3', 'Iris-versicolor'],\n",
       "       ['6.6', '3.0', '4.4', '1.4', 'Iris-versicolor'],\n",
       "       ['6.8', '2.8', '4.8', '1.4', 'Iris-versicolor'],\n",
       "       ['6.7', '3.0', '5.0', '1.7', 'Iris-versicolor'],\n",
       "       ['6.0', '2.9', '4.5', '1.5', 'Iris-versicolor'],\n",
       "       ['5.7', '2.6', '3.5', '1.0', 'Iris-versicolor'],\n",
       "       ['5.5', '2.4', '3.8', '1.1', 'Iris-versicolor'],\n",
       "       ['5.5', '2.4', '3.7', '1.0', 'Iris-versicolor'],\n",
       "       ['5.8', '2.7', '3.9', '1.2', 'Iris-versicolor'],\n",
       "       ['6.0', '2.7', '5.1', '1.6', 'Iris-versicolor'],\n",
       "       ['5.4', '3.0', '4.5', '1.5', 'Iris-versicolor'],\n",
       "       ['6.0', '3.4', '4.5', '1.6', 'Iris-versicolor'],\n",
       "       ['6.7', '3.1', '4.7', '1.5', 'Iris-versicolor'],\n",
       "       ['6.3', '2.3', '4.4', '1.3', 'Iris-versicolor'],\n",
       "       ['5.6', '3.0', '4.1', '1.3', 'Iris-versicolor'],\n",
       "       ['5.5', '2.5', '4.0', '1.3', 'Iris-versicolor'],\n",
       "       ['5.5', '2.6', '4.4', '1.2', 'Iris-versicolor'],\n",
       "       ['6.1', '3.0', '4.6', '1.4', 'Iris-versicolor'],\n",
       "       ['5.8', '2.6', '4.0', '1.2', 'Iris-versicolor'],\n",
       "       ['5.0', '2.3', '3.3', '1.0', 'Iris-versicolor'],\n",
       "       ['5.6', '2.7', '4.2', '1.3', 'Iris-versicolor'],\n",
       "       ['5.7', '3.0', '4.2', '1.2', 'Iris-versicolor'],\n",
       "       ['5.7', '2.9', '4.2', '1.3', 'Iris-versicolor'],\n",
       "       ['6.2', '2.9', '4.3', '1.3', 'Iris-versicolor'],\n",
       "       ['5.1', '2.5', '3.0', '1.1', 'Iris-versicolor'],\n",
       "       ['5.7', '2.8', '4.1', '1.3', 'Iris-versicolor'],\n",
       "       ['6.3', '3.3', '6.0', '2.5', 'Iris-virginica'],\n",
       "       ['5.8', '2.7', '5.1', '1.9', 'Iris-virginica'],\n",
       "       ['7.1', '3.0', '5.9', '2.1', 'Iris-virginica'],\n",
       "       ['6.3', '2.9', '5.6', '1.8', 'Iris-virginica'],\n",
       "       ['6.5', '3.0', '5.8', '2.2', 'Iris-virginica'],\n",
       "       ['7.6', '3.0', '6.6', '2.1', 'Iris-virginica'],\n",
       "       ['4.9', '2.5', '4.5', '1.7', 'Iris-virginica'],\n",
       "       ['7.3', '2.9', '6.3', '1.8', 'Iris-virginica'],\n",
       "       ['6.7', '2.5', '5.8', '1.8', 'Iris-virginica'],\n",
       "       ['7.2', '3.6', '6.1', '2.5', 'Iris-virginica'],\n",
       "       ['6.5', '3.2', '5.1', '2.0', 'Iris-virginica'],\n",
       "       ['6.4', '2.7', '5.3', '1.9', 'Iris-virginica'],\n",
       "       ['6.8', '3.0', '5.5', '2.1', 'Iris-virginica'],\n",
       "       ['5.7', '2.5', '5.0', '2.0', 'Iris-virginica'],\n",
       "       ['5.8', '2.8', '5.1', '2.4', 'Iris-virginica'],\n",
       "       ['6.4', '3.2', '5.3', '2.3', 'Iris-virginica'],\n",
       "       ['6.5', '3.0', '5.5', '1.8', 'Iris-virginica'],\n",
       "       ['7.7', '3.8', '6.7', '2.2', 'Iris-virginica'],\n",
       "       ['7.7', '2.6', '6.9', '2.3', 'Iris-virginica'],\n",
       "       ['6.0', '2.2', '5.0', '1.5', 'Iris-virginica'],\n",
       "       ['6.9', '3.2', '5.7', '2.3', 'Iris-virginica'],\n",
       "       ['5.6', '2.8', '4.9', '2.0', 'Iris-virginica'],\n",
       "       ['7.7', '2.8', '6.7', '2.0', 'Iris-virginica'],\n",
       "       ['6.3', '2.7', '4.9', '1.8', 'Iris-virginica'],\n",
       "       ['6.7', '3.3', '5.7', '2.1', 'Iris-virginica'],\n",
       "       ['7.2', '3.2', '6.0', '1.8', 'Iris-virginica'],\n",
       "       ['6.2', '2.8', '4.8', '1.8', 'Iris-virginica'],\n",
       "       ['6.1', '3.0', '4.9', '1.8', 'Iris-virginica'],\n",
       "       ['6.4', '2.8', '5.6', '2.1', 'Iris-virginica'],\n",
       "       ['7.2', '3.0', '5.8', '1.6', 'Iris-virginica'],\n",
       "       ['7.4', '2.8', '6.1', '1.9', 'Iris-virginica'],\n",
       "       ['7.9', '3.8', '6.4', '2.0', 'Iris-virginica'],\n",
       "       ['6.4', '2.8', '5.6', '2.2', 'Iris-virginica'],\n",
       "       ['6.3', '2.8', '5.1', '1.5', 'Iris-virginica'],\n",
       "       ['6.1', '2.6', '5.6', '1.4', 'Iris-virginica'],\n",
       "       ['7.7', '3.0', '6.1', '2.3', 'Iris-virginica'],\n",
       "       ['6.3', '3.4', '5.6', '2.4', 'Iris-virginica'],\n",
       "       ['6.4', '3.1', '5.5', '1.8', 'Iris-virginica'],\n",
       "       ['6.0', '3.0', '4.8', '1.8', 'Iris-virginica'],\n",
       "       ['6.9', '3.1', '5.4', '2.1', 'Iris-virginica'],\n",
       "       ['6.7', '3.1', '5.6', '2.4', 'Iris-virginica'],\n",
       "       ['6.9', '3.1', '5.1', '2.3', 'Iris-virginica'],\n",
       "       ['5.8', '2.7', '5.1', '1.9', 'Iris-virginica'],\n",
       "       ['6.8', '3.2', '5.9', '2.3', 'Iris-virginica'],\n",
       "       ['6.7', '3.3', '5.7', '2.5', 'Iris-virginica'],\n",
       "       ['6.7', '3.0', '5.2', '2.3', 'Iris-virginica'],\n",
       "       ['6.3', '2.5', '5.0', '1.9', 'Iris-virginica'],\n",
       "       ['6.5', '3.0', '5.2', '2.0', 'Iris-virginica'],\n",
       "       ['6.2', '3.4', '5.4', '2.3', 'Iris-virginica'],\n",
       "       ['5.9', '3.0', '5.1', '1.8', 'Iris-virginica']], dtype='<U15')"
      ]
     },
     "execution_count": 13,
     "metadata": {},
     "output_type": "execute_result"
    }
   ],
   "source": [
    "d = np.genfromtxt (url, delimiter=',', dtype='str')\n",
    "d"
   ]
  },
  {
   "cell_type": "code",
   "execution_count": 14,
   "id": "26ca3339",
   "metadata": {},
   "outputs": [],
   "source": [
    "attr1 = np.array(out)\n",
    "attr1 = attr1.reshape((150,1))"
   ]
  },
  {
   "cell_type": "code",
   "execution_count": 15,
   "id": "0ae16e63",
   "metadata": {},
   "outputs": [
    {
     "data": {
      "text/plain": [
       "(150, 1)"
      ]
     },
     "execution_count": 15,
     "metadata": {},
     "output_type": "execute_result"
    }
   ],
   "source": [
    "attr1.shape\n",
    "#d.shape"
   ]
  },
  {
   "cell_type": "code",
   "execution_count": 29,
   "id": "20fd2920",
   "metadata": {},
   "outputs": [
    {
     "data": {
      "text/plain": [
       "array([['5.1', '3.5', '1.4', '0.2', 'Iris-setosa', '0'],\n",
       "       ['4.9', '3.0', '1.4', '0.2', 'Iris-setosa', '0'],\n",
       "       ['4.7', '3.2', '1.3', '0.2', 'Iris-setosa', '0'],\n",
       "       ['4.6', '3.1', '1.5', '0.2', 'Iris-setosa', '0'],\n",
       "       ['5.0', '3.6', '1.4', '0.2', 'Iris-setosa', '0'],\n",
       "       ['5.4', '3.9', '1.7', '0.4', 'Iris-setosa', '0'],\n",
       "       ['4.6', '3.4', '1.4', '0.3', 'Iris-setosa', '0'],\n",
       "       ['5.0', '3.4', '1.5', '0.2', 'Iris-setosa', '0'],\n",
       "       ['4.4', '2.9', '1.4', '0.2', 'Iris-setosa', '0'],\n",
       "       ['4.9', '3.1', '1.5', '0.1', 'Iris-setosa', '0'],\n",
       "       ['5.4', '3.7', '1.5', '0.2', 'Iris-setosa', '0'],\n",
       "       ['4.8', '3.4', '1.6', '0.2', 'Iris-setosa', '0'],\n",
       "       ['4.8', '3.0', '1.4', '0.1', 'Iris-setosa', '0'],\n",
       "       ['4.3', '3.0', '1.1', '0.1', 'Iris-setosa', '0'],\n",
       "       ['5.8', '4.0', '1.2', '0.2', 'Iris-setosa', '0'],\n",
       "       ['5.7', '4.4', '1.5', '0.4', 'Iris-setosa', '0'],\n",
       "       ['5.4', '3.9', '1.3', '0.4', 'Iris-setosa', '0'],\n",
       "       ['5.1', '3.5', '1.4', '0.3', 'Iris-setosa', '0'],\n",
       "       ['5.7', '3.8', '1.7', '0.3', 'Iris-setosa', '0'],\n",
       "       ['5.1', '3.8', '1.5', '0.3', 'Iris-setosa', '0'],\n",
       "       ['5.4', '3.4', '1.7', '0.2', 'Iris-setosa', '0'],\n",
       "       ['5.1', '3.7', '1.5', '0.4', 'Iris-setosa', '0'],\n",
       "       ['4.6', '3.6', '1.0', '0.2', 'Iris-setosa', '0'],\n",
       "       ['5.1', '3.3', '1.7', '0.5', 'Iris-setosa', '0'],\n",
       "       ['4.8', '3.4', '1.9', '0.2', 'Iris-setosa', '0'],\n",
       "       ['5.0', '3.0', '1.6', '0.2', 'Iris-setosa', '0'],\n",
       "       ['5.0', '3.4', '1.6', '0.4', 'Iris-setosa', '0'],\n",
       "       ['5.2', '3.5', '1.5', '0.2', 'Iris-setosa', '0'],\n",
       "       ['5.2', '3.4', '1.4', '0.2', 'Iris-setosa', '0'],\n",
       "       ['4.7', '3.2', '1.6', '0.2', 'Iris-setosa', '0'],\n",
       "       ['4.8', '3.1', '1.6', '0.2', 'Iris-setosa', '0'],\n",
       "       ['5.4', '3.4', '1.5', '0.4', 'Iris-setosa', '0'],\n",
       "       ['5.2', '4.1', '1.5', '0.1', 'Iris-setosa', '0'],\n",
       "       ['5.5', '4.2', '1.4', '0.2', 'Iris-setosa', '0'],\n",
       "       ['4.9', '3.1', '1.5', '0.1', 'Iris-setosa', '0'],\n",
       "       ['5.0', '3.2', '1.2', '0.2', 'Iris-setosa', '0'],\n",
       "       ['5.5', '3.5', '1.3', '0.2', 'Iris-setosa', '0'],\n",
       "       ['4.9', '3.1', '1.5', '0.1', 'Iris-setosa', '0'],\n",
       "       ['4.4', '3.0', '1.3', '0.2', 'Iris-setosa', '0'],\n",
       "       ['5.1', '3.4', '1.5', '0.2', 'Iris-setosa', '0'],\n",
       "       ['5.0', '3.5', '1.3', '0.3', 'Iris-setosa', '0'],\n",
       "       ['4.5', '2.3', '1.3', '0.3', 'Iris-setosa', '0'],\n",
       "       ['4.4', '3.2', '1.3', '0.2', 'Iris-setosa', '0'],\n",
       "       ['5.0', '3.5', '1.6', '0.6', 'Iris-setosa', '0'],\n",
       "       ['5.1', '3.8', '1.9', '0.4', 'Iris-setosa', '0'],\n",
       "       ['4.8', '3.0', '1.4', '0.3', 'Iris-setosa', '0'],\n",
       "       ['5.1', '3.8', '1.6', '0.2', 'Iris-setosa', '0'],\n",
       "       ['4.6', '3.2', '1.4', '0.2', 'Iris-setosa', '0'],\n",
       "       ['5.3', '3.7', '1.5', '0.2', 'Iris-setosa', '0'],\n",
       "       ['5.0', '3.3', '1.4', '0.2', 'Iris-setosa', '0'],\n",
       "       ['7.0', '3.2', '4.7', '1.4', 'Iris-versicolor', '1'],\n",
       "       ['6.4', '3.2', '4.5', '1.5', 'Iris-versicolor', '1'],\n",
       "       ['6.9', '3.1', '4.9', '1.5', 'Iris-versicolor', '1'],\n",
       "       ['5.5', '2.3', '4.0', '1.3', 'Iris-versicolor', '1'],\n",
       "       ['6.5', '2.8', '4.6', '1.5', 'Iris-versicolor', '1'],\n",
       "       ['5.7', '2.8', '4.5', '1.3', 'Iris-versicolor', '1'],\n",
       "       ['6.3', '3.3', '4.7', '1.6', 'Iris-versicolor', '1'],\n",
       "       ['4.9', '2.4', '3.3', '1.0', 'Iris-versicolor', '1'],\n",
       "       ['6.6', '2.9', '4.6', '1.3', 'Iris-versicolor', '1'],\n",
       "       ['5.2', '2.7', '3.9', '1.4', 'Iris-versicolor', '1'],\n",
       "       ['5.0', '2.0', '3.5', '1.0', 'Iris-versicolor', '1'],\n",
       "       ['5.9', '3.0', '4.2', '1.5', 'Iris-versicolor', '1'],\n",
       "       ['6.0', '2.2', '4.0', '1.0', 'Iris-versicolor', '1'],\n",
       "       ['6.1', '2.9', '4.7', '1.4', 'Iris-versicolor', '1'],\n",
       "       ['5.6', '2.9', '3.6', '1.3', 'Iris-versicolor', '1'],\n",
       "       ['6.7', '3.1', '4.4', '1.4', 'Iris-versicolor', '1'],\n",
       "       ['5.6', '3.0', '4.5', '1.5', 'Iris-versicolor', '1'],\n",
       "       ['5.8', '2.7', '4.1', '1.0', 'Iris-versicolor', '1'],\n",
       "       ['6.2', '2.2', '4.5', '1.5', 'Iris-versicolor', '1'],\n",
       "       ['5.6', '2.5', '3.9', '1.1', 'Iris-versicolor', '1'],\n",
       "       ['5.9', '3.2', '4.8', '1.8', 'Iris-versicolor', '1'],\n",
       "       ['6.1', '2.8', '4.0', '1.3', 'Iris-versicolor', '1'],\n",
       "       ['6.3', '2.5', '4.9', '1.5', 'Iris-versicolor', '1'],\n",
       "       ['6.1', '2.8', '4.7', '1.2', 'Iris-versicolor', '1'],\n",
       "       ['6.4', '2.9', '4.3', '1.3', 'Iris-versicolor', '1'],\n",
       "       ['6.6', '3.0', '4.4', '1.4', 'Iris-versicolor', '1'],\n",
       "       ['6.8', '2.8', '4.8', '1.4', 'Iris-versicolor', '1'],\n",
       "       ['6.7', '3.0', '5.0', '1.7', 'Iris-versicolor', '1'],\n",
       "       ['6.0', '2.9', '4.5', '1.5', 'Iris-versicolor', '1'],\n",
       "       ['5.7', '2.6', '3.5', '1.0', 'Iris-versicolor', '1'],\n",
       "       ['5.5', '2.4', '3.8', '1.1', 'Iris-versicolor', '1'],\n",
       "       ['5.5', '2.4', '3.7', '1.0', 'Iris-versicolor', '1'],\n",
       "       ['5.8', '2.7', '3.9', '1.2', 'Iris-versicolor', '1'],\n",
       "       ['6.0', '2.7', '5.1', '1.6', 'Iris-versicolor', '1'],\n",
       "       ['5.4', '3.0', '4.5', '1.5', 'Iris-versicolor', '1'],\n",
       "       ['6.0', '3.4', '4.5', '1.6', 'Iris-versicolor', '1'],\n",
       "       ['6.7', '3.1', '4.7', '1.5', 'Iris-versicolor', '1'],\n",
       "       ['6.3', '2.3', '4.4', '1.3', 'Iris-versicolor', '1'],\n",
       "       ['5.6', '3.0', '4.1', '1.3', 'Iris-versicolor', '1'],\n",
       "       ['5.5', '2.5', '4.0', '1.3', 'Iris-versicolor', '1'],\n",
       "       ['5.5', '2.6', '4.4', '1.2', 'Iris-versicolor', '1'],\n",
       "       ['6.1', '3.0', '4.6', '1.4', 'Iris-versicolor', '1'],\n",
       "       ['5.8', '2.6', '4.0', '1.2', 'Iris-versicolor', '1'],\n",
       "       ['5.0', '2.3', '3.3', '1.0', 'Iris-versicolor', '1'],\n",
       "       ['5.6', '2.7', '4.2', '1.3', 'Iris-versicolor', '1'],\n",
       "       ['5.7', '3.0', '4.2', '1.2', 'Iris-versicolor', '1'],\n",
       "       ['5.7', '2.9', '4.2', '1.3', 'Iris-versicolor', '1'],\n",
       "       ['6.2', '2.9', '4.3', '1.3', 'Iris-versicolor', '1'],\n",
       "       ['5.1', '2.5', '3.0', '1.1', 'Iris-versicolor', '1'],\n",
       "       ['5.7', '2.8', '4.1', '1.3', 'Iris-versicolor', '1'],\n",
       "       ['6.3', '3.3', '6.0', '2.5', 'Iris-virginica', '2'],\n",
       "       ['5.8', '2.7', '5.1', '1.9', 'Iris-virginica', '2'],\n",
       "       ['7.1', '3.0', '5.9', '2.1', 'Iris-virginica', '2'],\n",
       "       ['6.3', '2.9', '5.6', '1.8', 'Iris-virginica', '2'],\n",
       "       ['6.5', '3.0', '5.8', '2.2', 'Iris-virginica', '2'],\n",
       "       ['7.6', '3.0', '6.6', '2.1', 'Iris-virginica', '2'],\n",
       "       ['4.9', '2.5', '4.5', '1.7', 'Iris-virginica', '2'],\n",
       "       ['7.3', '2.9', '6.3', '1.8', 'Iris-virginica', '2'],\n",
       "       ['6.7', '2.5', '5.8', '1.8', 'Iris-virginica', '2'],\n",
       "       ['7.2', '3.6', '6.1', '2.5', 'Iris-virginica', '2'],\n",
       "       ['6.5', '3.2', '5.1', '2.0', 'Iris-virginica', '2'],\n",
       "       ['6.4', '2.7', '5.3', '1.9', 'Iris-virginica', '2'],\n",
       "       ['6.8', '3.0', '5.5', '2.1', 'Iris-virginica', '2'],\n",
       "       ['5.7', '2.5', '5.0', '2.0', 'Iris-virginica', '2'],\n",
       "       ['5.8', '2.8', '5.1', '2.4', 'Iris-virginica', '2'],\n",
       "       ['6.4', '3.2', '5.3', '2.3', 'Iris-virginica', '2'],\n",
       "       ['6.5', '3.0', '5.5', '1.8', 'Iris-virginica', '2'],\n",
       "       ['7.7', '3.8', '6.7', '2.2', 'Iris-virginica', '2'],\n",
       "       ['7.7', '2.6', '6.9', '2.3', 'Iris-virginica', '2'],\n",
       "       ['6.0', '2.2', '5.0', '1.5', 'Iris-virginica', '2'],\n",
       "       ['6.9', '3.2', '5.7', '2.3', 'Iris-virginica', '2'],\n",
       "       ['5.6', '2.8', '4.9', '2.0', 'Iris-virginica', '2'],\n",
       "       ['7.7', '2.8', '6.7', '2.0', 'Iris-virginica', '2'],\n",
       "       ['6.3', '2.7', '4.9', '1.8', 'Iris-virginica', '2'],\n",
       "       ['6.7', '3.3', '5.7', '2.1', 'Iris-virginica', '2'],\n",
       "       ['7.2', '3.2', '6.0', '1.8', 'Iris-virginica', '2'],\n",
       "       ['6.2', '2.8', '4.8', '1.8', 'Iris-virginica', '2'],\n",
       "       ['6.1', '3.0', '4.9', '1.8', 'Iris-virginica', '2'],\n",
       "       ['6.4', '2.8', '5.6', '2.1', 'Iris-virginica', '2'],\n",
       "       ['7.2', '3.0', '5.8', '1.6', 'Iris-virginica', '2'],\n",
       "       ['7.4', '2.8', '6.1', '1.9', 'Iris-virginica', '2'],\n",
       "       ['7.9', '3.8', '6.4', '2.0', 'Iris-virginica', '2'],\n",
       "       ['6.4', '2.8', '5.6', '2.2', 'Iris-virginica', '2'],\n",
       "       ['6.3', '2.8', '5.1', '1.5', 'Iris-virginica', '2'],\n",
       "       ['6.1', '2.6', '5.6', '1.4', 'Iris-virginica', '2'],\n",
       "       ['7.7', '3.0', '6.1', '2.3', 'Iris-virginica', '2'],\n",
       "       ['6.3', '3.4', '5.6', '2.4', 'Iris-virginica', '2'],\n",
       "       ['6.4', '3.1', '5.5', '1.8', 'Iris-virginica', '2'],\n",
       "       ['6.0', '3.0', '4.8', '1.8', 'Iris-virginica', '2'],\n",
       "       ['6.9', '3.1', '5.4', '2.1', 'Iris-virginica', '2'],\n",
       "       ['6.7', '3.1', '5.6', '2.4', 'Iris-virginica', '2'],\n",
       "       ['6.9', '3.1', '5.1', '2.3', 'Iris-virginica', '2'],\n",
       "       ['5.8', '2.7', '5.1', '1.9', 'Iris-virginica', '2'],\n",
       "       ['6.8', '3.2', '5.9', '2.3', 'Iris-virginica', '2'],\n",
       "       ['6.7', '3.3', '5.7', '2.5', 'Iris-virginica', '2'],\n",
       "       ['6.7', '3.0', '5.2', '2.3', 'Iris-virginica', '2'],\n",
       "       ['6.3', '2.5', '5.0', '1.9', 'Iris-virginica', '2'],\n",
       "       ['6.5', '3.0', '5.2', '2.0', 'Iris-virginica', '2'],\n",
       "       ['6.2', '3.4', '5.4', '2.3', 'Iris-virginica', '2'],\n",
       "       ['5.9', '3.0', '5.1', '1.8', 'Iris-virginica', '2']], dtype='<U15')"
      ]
     },
     "execution_count": 29,
     "metadata": {},
     "output_type": "execute_result"
    }
   ],
   "source": [
    "np.concatenate((d, attr1), axis = 1)"
   ]
  },
  {
   "cell_type": "code",
   "execution_count": 16,
   "id": "d9c44c3a",
   "metadata": {},
   "outputs": [],
   "source": [
    "zz = np.concatenate((d, attr1), axis = 1)\n"
   ]
  },
  {
   "cell_type": "code",
   "execution_count": 17,
   "id": "3b4853eb",
   "metadata": {},
   "outputs": [
    {
     "data": {
      "text/plain": [
       "array([3.5, 3. , 3.2, 3.1, 3.6, 3.9, 3.4, 3.4, 2.9, 3.1, 3.7, 3.4, 3. ,\n",
       "       3. , 4. , 4.4, 3.9, 3.5, 3.8, 3.8, 3.4, 3.7, 3.6, 3.3, 3.4, 3. ,\n",
       "       3.4, 3.5, 3.4, 3.2, 3.1, 3.4, 4.1, 4.2, 3.1, 3.2, 3.5, 3.1, 3. ,\n",
       "       3.4, 3.5, 2.3, 3.2, 3.5, 3.8, 3. , 3.8, 3.2, 3.7, 3.3, 3.2, 3.2,\n",
       "       3.1, 2.3, 2.8, 2.8, 3.3, 2.4, 2.9, 2.7, 2. , 3. , 2.2, 2.9, 2.9,\n",
       "       3.1, 3. , 2.7, 2.2, 2.5, 3.2, 2.8, 2.5, 2.8, 2.9, 3. , 2.8, 3. ,\n",
       "       2.9, 2.6, 2.4, 2.4, 2.7, 2.7, 3. , 3.4, 3.1, 2.3, 3. , 2.5, 2.6,\n",
       "       3. , 2.6, 2.3, 2.7, 3. , 2.9, 2.9, 2.5, 2.8, 3.3, 2.7, 3. , 2.9,\n",
       "       3. , 3. , 2.5, 2.9, 2.5, 3.6, 3.2, 2.7, 3. , 2.5, 2.8, 3.2, 3. ,\n",
       "       3.8, 2.6, 2.2, 3.2, 2.8, 2.8, 2.7, 3.3, 3.2, 2.8, 3. , 2.8, 3. ,\n",
       "       2.8, 3.8, 2.8, 2.8, 2.6, 3. , 3.4, 3.1, 3. , 3.1, 3.1, 3.1, 2.7,\n",
       "       3.2, 3.3, 3. , 2.5, 3. , 3.4, 3. ])"
      ]
     },
     "execution_count": 17,
     "metadata": {},
     "output_type": "execute_result"
    }
   ],
   "source": [
    "num_col = zz[:, 1].astype('float')\n",
    "num_col"
   ]
  },
  {
   "cell_type": "code",
   "execution_count": 18,
   "id": "81c73f90",
   "metadata": {},
   "outputs": [
    {
     "name": "stdout",
     "output_type": "stream",
     "text": [
      "3.0\n"
     ]
    }
   ],
   "source": [
    "print(np.median(num_col))"
   ]
  },
  {
   "cell_type": "code",
   "execution_count": 19,
   "id": "d9b33e8b",
   "metadata": {},
   "outputs": [
    {
     "name": "stdout",
     "output_type": "stream",
     "text": [
      "3.0540000000000003\n"
     ]
    }
   ],
   "source": [
    "print(np.mean(num_col))"
   ]
  },
  {
   "cell_type": "code",
   "execution_count": 20,
   "id": "2b51e5c0",
   "metadata": {},
   "outputs": [
    {
     "name": "stdout",
     "output_type": "stream",
     "text": [
      "2.0\n"
     ]
    }
   ],
   "source": [
    "print(np.min(num_col))"
   ]
  },
  {
   "cell_type": "code",
   "execution_count": 21,
   "id": "06f074e3",
   "metadata": {},
   "outputs": [
    {
     "name": "stdout",
     "output_type": "stream",
     "text": [
      "4.4\n"
     ]
    }
   ],
   "source": [
    "print(np.max(num_col))"
   ]
  },
  {
   "cell_type": "code",
   "execution_count": 22,
   "id": "0b06049a",
   "metadata": {},
   "outputs": [
    {
     "name": "stdout",
     "output_type": "stream",
     "text": [
      "2.8\n"
     ]
    }
   ],
   "source": [
    "print(np.percentile(num_col, 25))"
   ]
  },
  {
   "cell_type": "code",
   "execution_count": 23,
   "id": "048ca7ca",
   "metadata": {},
   "outputs": [
    {
     "name": "stdout",
     "output_type": "stream",
     "text": [
      "3.3\n"
     ]
    }
   ],
   "source": [
    "print(np.percentile(num_col, 75))"
   ]
  },
  {
   "cell_type": "code",
   "execution_count": 24,
   "id": "e6ff7b00",
   "metadata": {},
   "outputs": [],
   "source": [
    "%matplotlib inline\n",
    "import matplotlib.pyplot as plt\n",
    "import seaborn; seaborn.set()"
   ]
  },
  {
   "cell_type": "code",
   "execution_count": 25,
   "id": "c46d1477",
   "metadata": {},
   "outputs": [
    {
     "data": {
      "text/plain": [
       "(array([ 4.,  7., 22., 24., 38., 31.,  9., 11.,  2.,  2.]),\n",
       " array([2.  , 2.24, 2.48, 2.72, 2.96, 3.2 , 3.44, 3.68, 3.92, 4.16, 4.4 ]),\n",
       " <BarContainer object of 10 artists>)"
      ]
     },
     "execution_count": 25,
     "metadata": {},
     "output_type": "execute_result"
    },
    {
     "data": {
      "image/png": "[encoded data removed]",
      "text/plain": [
       "<Figure size 432x288 with 1 Axes>"
      ]
     },
     "metadata": {},
     "output_type": "display_data"
    }
   ],
   "source": [
    "plt.hist(num_col)"
   ]
  },
  {
   "cell_type": "code",
   "execution_count": null,
   "id": "b301c91f",
   "metadata": {},
   "outputs": [],
   "source": []
  }
 ],
 "metadata": {
  "kernelspec": {
   "display_name": "Python 3 (ipykernel)",
   "language": "python",
   "name": "python3"
  },
  "language_info": {
   "codemirror_mode": {
    "name": "ipython",
    "version": 3
   },
   "file_extension": ".py",
   "mimetype": "text/x-python",
   "name": "python",
   "nbconvert_exporter": "python",
   "pygments_lexer": "ipython3",
   "version": "3.9.7"
  }
 },
 "nbformat": 4,
 "nbformat_minor": 5
}
